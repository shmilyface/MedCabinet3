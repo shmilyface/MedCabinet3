{
  "nbformat": 4,
  "nbformat_minor": 0,
  "metadata": {
    "colab": {
      "name": "Potency Calculation Justification.ipynb",
      "provenance": [],
      "include_colab_link": true
    },
    "kernelspec": {
      "name": "python3",
      "display_name": "Python 3"
    }
  },
  "cells": [
    {
      "cell_type": "markdown",
      "metadata": {
        "id": "view-in-github",
        "colab_type": "text"
      },
      "source": [
        "<a href=\"https://colab.research.google.com/github/shmilyface/MedCabinet3/blob/master/Potency_Calculation_Justification.ipynb\" target=\"_parent\"><img src=\"https://colab.research.google.com/assets/colab-badge.svg\" alt=\"Open In Colab\"/></a>"
      ]
    },
    {
      "cell_type": "markdown",
      "metadata": {
        "id": "ApbQ0pVBwZuY",
        "colab_type": "text"
      },
      "source": [
        "In an attempt to create a more individualized and interactive user experience, MedCabinet 3 Team Members Stephanie Miller and Eric Rivera sourced a credible, documented equation to create a calculator that can take a strain from the dataset we scrapped from Leafly, that prints out the THC potency based on experience levels and the type of high desired. \n",
        "\n",
        "Links: \n",
        "\n",
        "**Formula:** \n",
        "\n",
        " $${P}={10(G * S)}$$\n",
        "\n",
        "**P = Potency (amount of THC ingested)**\n",
        "\n",
        "**G = Grams (of strain in flower form)**\n",
        "\n",
        "**S = Strength (THC %)**\n",
        "\n",
        "\n",
        "\n",
        "\n",
        "http://www.howtoedibles.com/about (Based on Ohm's Law: https://beyondchronic.com/2015/11/ohs-law-of-cannabis-edible-potency/)\n",
        "\n",
        "*Note*: In comments after formula in Ohm's Law link, author states \"The formulas work perfectly for both flower and concentrate, because the weight and potency are both factors. You can use the formulas (or just a simple calculation), for instance, to show that a typical gram of concentrate is approximately equivalent to a typical eighth ounce of flower.\"\n",
        "\n",
        "\n",
        "**Erowid.org: Cannabis and Marinol Dosage** \n",
        "https://www.erowid.org/plants/cannabis/cannabis_dose.shtml\n",
        "\n",
        "> Using the above linked table, which was cited by an organization called the Marijuana Policy Project, a non-profit organization aimed at adjusting the current legal restrictions to reflect our current society, MPP created this resource (aka our Plan Z if this feature wasn't able to be implemented): \n",
        "\n",
        "**https://www.consumeresponsibly.org/limit/**\n",
        "\n",
        "This information is given by numerous dispensary information websites. I called a local dispensary (Local Cannas House, Spokane WA) and they confirmed it as a unofficial industry standard for recommending and discussing dosage with customers, as well as being part of the sourcing for the calculator we were inspired by, seen here, in the LA Times article:\n",
        "\n",
        "https://www.latimes.com/projects/la-me-weed-101-thc-calculator/\n",
        "\n",
        "\n",
        "\n",
        "\n"
      ]
    },
    {
      "cell_type": "code",
      "metadata": {
        "id": "o6CPka9EwNNC",
        "colab_type": "code",
        "colab": {}
      },
      "source": [
        "#source erowid image \n",
        "#bring in sample data - to show proof of model\n",
        "#import model \n",
        "#showcase output vs formula\n",
        "#visualizations\n"
      ],
      "execution_count": 0,
      "outputs": []
    },
    {
      "cell_type": "code",
      "metadata": {
        "id": "iOqlmc6gI-xl",
        "colab_type": "code",
        "colab": {}
      },
      "source": [
        "#Instructions\n",
        "\n"
      ],
      "execution_count": 0,
      "outputs": []
    },
    {
      "cell_type": "markdown",
      "metadata": {
        "id": "0SFbYIswTyai",
        "colab_type": "text"
      },
      "source": [
        "DISCLAIMER: This calculator is based on a common method of dosing guidelines, it is by no means regulated, use at your own risk. "
      ]
    },
    {
      "cell_type": "markdown",
      "metadata": {
        "id": "6caIWXy2VKpm",
        "colab_type": "text"
      },
      "source": [
        "# Instructions\n",
        "\n",
        "Select a strain from below \n",
        "*Dropdown*\n",
        "\n",
        "Enter the grams of flower you have (if unsure, check package, or use a kitchen scale) \n",
        "Scale min: 1g\n",
        "Scale max: 100g\n",
        "(Do we actually need this)\n",
        "\n",
        "THC Content: For the given strain, this is the THC percentage content. \n",
        "\n",
        "Dosage Graph\n",
        "\n",
        "Beginner: New to weed, inexperienced, low risk of negative experience\n",
        "\n",
        "Common: Average amount needed for the common smoker\n",
        "\n",
        "Strong/Heavy: Daily user, either highly tolerant or medically prescribed.\n",
        "\n",
        "Light/Beginner High: First Time, Beginners, Trying new strains\n",
        "\n",
        "Moderate High: \n",
        "\n",
        "Heavy High:\n",
        "\n",
        "\n"
      ]
    }
  ]
}